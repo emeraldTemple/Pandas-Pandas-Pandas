{
 "cells": [
  {
   "cell_type": "markdown",
   "metadata": {},
   "source": [
    "### Heroes Of Pymoli Data Analysis\n",
    "* Of the 1163 active players, the vast majority are male (84%). There also exists, a smaller, but notable proportion of female players (14%).\n",
    "\n",
    "* Our peak age demographic falls between 20-24 (44.8%) with secondary groups falling between 15-19 (18.60%) and 25-29 (13.4%).  \n",
    "-----"
   ]
  },
  {
   "cell_type": "markdown",
   "metadata": {},
   "source": [
    "### Note\n",
    "* Instructions have been included for each segment. You do not have to follow them exactly, but they are included to help you think through the steps."
   ]
  },
  {
   "cell_type": "code",
   "execution_count": 1,
   "metadata": {},
   "outputs": [],
   "source": [
    "# Dependencies and Setup\n",
    "import pandas as pd\n",
    "import numpy as np\n",
    "\n",
    "# File to Load (Remember to Change These)\n",
    "file_to_load = \"Resources/purchase_data.csv\"\n",
    "\n",
    "# Read Purchasing File and store into Pandas data frame\n",
    "purchase_data = pd.read_csv(file_to_load)\n",
    "purchase_data = purchase_data.dropna()"
   ]
  },
  {
   "cell_type": "markdown",
   "metadata": {},
   "source": [
    "## Player Count"
   ]
  },
  {
   "cell_type": "markdown",
   "metadata": {},
   "source": [
    "* Display the total number of players\n"
   ]
  },
  {
   "cell_type": "code",
   "execution_count": 2,
   "metadata": {},
   "outputs": [
    {
     "data": {
      "text/html": [
       "<div>\n",
       "<style scoped>\n",
       "    .dataframe tbody tr th:only-of-type {\n",
       "        vertical-align: middle;\n",
       "    }\n",
       "\n",
       "    .dataframe tbody tr th {\n",
       "        vertical-align: top;\n",
       "    }\n",
       "\n",
       "    .dataframe thead th {\n",
       "        text-align: right;\n",
       "    }\n",
       "</style>\n",
       "<table border=\"1\" class=\"dataframe\">\n",
       "  <thead>\n",
       "    <tr style=\"text-align: right;\">\n",
       "      <th></th>\n",
       "      <th>Total Players</th>\n",
       "    </tr>\n",
       "  </thead>\n",
       "  <tbody>\n",
       "    <tr>\n",
       "      <th>0</th>\n",
       "      <td>576</td>\n",
       "    </tr>\n",
       "  </tbody>\n",
       "</table>\n",
       "</div>"
      ],
      "text/plain": [
       "   Total Players\n",
       "0            576"
      ]
     },
     "execution_count": 2,
     "metadata": {},
     "output_type": "execute_result"
    }
   ],
   "source": [
    "num_players = purchase_data[\"SN\"].drop_duplicates().count()\n",
    "number_of_players_df = pd.DataFrame({\"Total Players\": [num_players]})\n",
    "number_of_players_df"
   ]
  },
  {
   "cell_type": "markdown",
   "metadata": {},
   "source": [
    "## Purchasing Analysis (Total)"
   ]
  },
  {
   "cell_type": "markdown",
   "metadata": {},
   "source": [
    "* Run basic calculations to obtain number of unique items, average price, etc.\n",
    "\n",
    "\n",
    "* Create a summary data frame to hold the results\n",
    "\n",
    "\n",
    "* Optional: give the displayed data cleaner formatting\n",
    "\n",
    "\n",
    "* Display the summary data frame\n"
   ]
  },
  {
   "cell_type": "code",
   "execution_count": 3,
   "metadata": {
    "scrolled": true
   },
   "outputs": [
    {
     "data": {
      "text/html": [
       "<div>\n",
       "<style scoped>\n",
       "    .dataframe tbody tr th:only-of-type {\n",
       "        vertical-align: middle;\n",
       "    }\n",
       "\n",
       "    .dataframe tbody tr th {\n",
       "        vertical-align: top;\n",
       "    }\n",
       "\n",
       "    .dataframe thead th {\n",
       "        text-align: right;\n",
       "    }\n",
       "</style>\n",
       "<table border=\"1\" class=\"dataframe\">\n",
       "  <thead>\n",
       "    <tr style=\"text-align: right;\">\n",
       "      <th></th>\n",
       "      <th>Number of Unique Items</th>\n",
       "      <th>Average Price</th>\n",
       "      <th>Number of Purchases</th>\n",
       "      <th>Total Revenue</th>\n",
       "    </tr>\n",
       "  </thead>\n",
       "  <tbody>\n",
       "    <tr>\n",
       "      <th>0</th>\n",
       "      <td>179</td>\n",
       "      <td>3.050987</td>\n",
       "      <td>780</td>\n",
       "      <td>2379.77</td>\n",
       "    </tr>\n",
       "  </tbody>\n",
       "</table>\n",
       "</div>"
      ],
      "text/plain": [
       "   Number of Unique Items  Average Price  Number of Purchases  Total Revenue\n",
       "0                     179       3.050987                  780        2379.77"
      ]
     },
     "execution_count": 3,
     "metadata": {},
     "output_type": "execute_result"
    }
   ],
   "source": [
    "#Number of Unique Items\n",
    "#Average Price\n",
    "#Number of Purchases\n",
    "#Total Revenue\n",
    "purchase_data\n",
    "num_unique_items = purchase_data[\"Item Name\"].drop_duplicates().count()\n",
    "avg_price = purchase_data[\"Price\"].mean()\n",
    "total_purchases = purchase_data[\"Purchase ID\"].count()\n",
    "total_revenue = purchase_data[\"Price\"].sum()\n",
    "purchasing_Analysis_df = pd.DataFrame({\"Number of Unique Items\": [num_unique_items], \"Average Price\": [avg_price], \"Number of Purchases\": [total_purchases], \"Total Revenue\": [total_revenue]})\n",
    "purchasing_Analysis_df\n"
   ]
  },
  {
   "cell_type": "markdown",
   "metadata": {},
   "source": [
    "## Gender Demographics"
   ]
  },
  {
   "cell_type": "markdown",
   "metadata": {},
   "source": [
    "* Percentage and Count of Male Players\n",
    "\n",
    "\n",
    "* Percentage and Count of Female Players\n",
    "\n",
    "\n",
    "* Percentage and Count of Other / Non-Disclosed\n",
    "\n",
    "\n"
   ]
  },
  {
   "cell_type": "code",
   "execution_count": null,
   "metadata": {},
   "outputs": [],
   "source": []
  },
  {
   "cell_type": "code",
   "execution_count": 4,
   "metadata": {
    "scrolled": true
   },
   "outputs": [
    {
     "data": {
      "text/html": [
       "<div>\n",
       "<style scoped>\n",
       "    .dataframe tbody tr th:only-of-type {\n",
       "        vertical-align: middle;\n",
       "    }\n",
       "\n",
       "    .dataframe tbody tr th {\n",
       "        vertical-align: top;\n",
       "    }\n",
       "\n",
       "    .dataframe thead th {\n",
       "        text-align: right;\n",
       "    }\n",
       "</style>\n",
       "<table border=\"1\" class=\"dataframe\">\n",
       "  <thead>\n",
       "    <tr style=\"text-align: right;\">\n",
       "      <th></th>\n",
       "      <th>Total Count</th>\n",
       "      <th>Percentage of Players</th>\n",
       "    </tr>\n",
       "    <tr>\n",
       "      <th>Gender</th>\n",
       "      <th></th>\n",
       "      <th></th>\n",
       "    </tr>\n",
       "  </thead>\n",
       "  <tbody>\n",
       "    <tr>\n",
       "      <th>Men</th>\n",
       "      <td>484</td>\n",
       "      <td>0.840278</td>\n",
       "    </tr>\n",
       "    <tr>\n",
       "      <th>Other / Non-Disclosed</th>\n",
       "      <td>11</td>\n",
       "      <td>0.019097</td>\n",
       "    </tr>\n",
       "    <tr>\n",
       "      <th>Women</th>\n",
       "      <td>81</td>\n",
       "      <td>0.140625</td>\n",
       "    </tr>\n",
       "  </tbody>\n",
       "</table>\n",
       "</div>"
      ],
      "text/plain": [
       "                       Total Count  Percentage of Players\n",
       "Gender                                                   \n",
       "Men                            484               0.840278\n",
       "Other / Non-Disclosed           11               0.019097\n",
       "Women                           81               0.140625"
      ]
     },
     "execution_count": 4,
     "metadata": {},
     "output_type": "execute_result"
    }
   ],
   "source": [
    "#Total count of Players\n",
    "#Percentage of Players\n",
    "#Male/Female/Other\n",
    "purchase_data\n",
    "framegenderdf  = purchase_data.iloc[:,:]\n",
    "framegenderdf_final = framegenderdf.drop_duplicates(\"SN\")\n",
    "#gender_Demo_df = pd.DataFrame({\"Total Players\": [female_Players], [male_Players], [other_Players], \"Percentage of Players\": [percent_Fem], [percent_Male], [percent_Other] })\n",
    "num_total_players = purchase_data[\"SN\"].drop_duplicates().count()\n",
    "female_Players = framegenderdf_final.loc[purchase_data[\"Gender\"] == \"Female\"]\n",
    "male_Players = framegenderdf_final.loc[purchase_data[\"Gender\"] == \"Male\"]\n",
    "other_Players = framegenderdf_final.loc[purchase_data[\"Gender\"] == \"Other / Non-Disclosed\"]\n",
    "women = female_Players[\"Purchase ID\"].count()\n",
    "men = male_Players[\"Purchase ID\"].count()\n",
    "other = other_Players[\"Purchase ID\"].count()\n",
    "percWomen = women/num_total_players\n",
    "percMen = men/num_total_players\n",
    "percOther = other/num_total_players\n",
    "#percFemale = women/num_total_players\n",
    "#percMale = men/num_total_players\n",
    "#percOther = other_Players/num_total_players\n",
    "frame_df = pd.DataFrame({\n",
    "    \"Total Count\": [women, men, other],\n",
    "    \"Percentage of Players\": [percWomen, percMen, percOther],\n",
    "    \"Gender\": [\"Women\", \"Men\", \"Other / Non-Disclosed\"]\n",
    "})\n",
    "frame_df = frame_df.groupby(\"Gender\")\n",
    "frame_df.mean()\n"
   ]
  },
  {
   "cell_type": "markdown",
   "metadata": {},
   "source": [
    "\n",
    "## Purchasing Analysis (Gender)"
   ]
  },
  {
   "cell_type": "markdown",
   "metadata": {},
   "source": [
    "* Run basic calculations to obtain purchase count, avg. purchase price, avg. purchase total per person etc. by gender\n",
    "* Create a summary data frame to hold the results\n",
    "* Optional: give the displayed data cleaner formatting\n",
    "* Display the summary data frame"
   ]
  },
  {
   "cell_type": "code",
   "execution_count": 5,
   "metadata": {},
   "outputs": [
    {
     "data": {
      "text/html": [
       "<div>\n",
       "<style scoped>\n",
       "    .dataframe tbody tr th:only-of-type {\n",
       "        vertical-align: middle;\n",
       "    }\n",
       "\n",
       "    .dataframe tbody tr th {\n",
       "        vertical-align: top;\n",
       "    }\n",
       "\n",
       "    .dataframe thead th {\n",
       "        text-align: right;\n",
       "    }\n",
       "</style>\n",
       "<table border=\"1\" class=\"dataframe\">\n",
       "  <thead>\n",
       "    <tr style=\"text-align: right;\">\n",
       "      <th></th>\n",
       "      <th>Purchase Count</th>\n",
       "      <th>Average Purchase Price</th>\n",
       "      <th>Total Purchases</th>\n",
       "    </tr>\n",
       "    <tr>\n",
       "      <th>Gender</th>\n",
       "      <th></th>\n",
       "      <th></th>\n",
       "      <th></th>\n",
       "    </tr>\n",
       "  </thead>\n",
       "  <tbody>\n",
       "    <tr>\n",
       "      <th>Men</th>\n",
       "      <td>652</td>\n",
       "      <td>3.017853</td>\n",
       "      <td>1967.64</td>\n",
       "    </tr>\n",
       "    <tr>\n",
       "      <th>Other / Non-Disclosed</th>\n",
       "      <td>15</td>\n",
       "      <td>3.346000</td>\n",
       "      <td>50.19</td>\n",
       "    </tr>\n",
       "    <tr>\n",
       "      <th>Women</th>\n",
       "      <td>113</td>\n",
       "      <td>3.203009</td>\n",
       "      <td>361.94</td>\n",
       "    </tr>\n",
       "  </tbody>\n",
       "</table>\n",
       "</div>"
      ],
      "text/plain": [
       "                       Purchase Count  Average Purchase Price  Total Purchases\n",
       "Gender                                                                        \n",
       "Men                               652                3.017853          1967.64\n",
       "Other / Non-Disclosed              15                3.346000            50.19\n",
       "Women                             113                3.203009           361.94"
      ]
     },
     "execution_count": 5,
     "metadata": {},
     "output_type": "execute_result"
    }
   ],
   "source": [
    "#purchase count\n",
    "#average purchase price\n",
    "#Total purchase value\n",
    "#Avg Total Purchase per 'Gender'\n",
    "\n",
    "female_Players_df = purchase_data.loc[purchase_data[\"Gender\"] == \"Female\"]\n",
    "female_Players_num = female_Players_df[\"SN\"].count()\n",
    "female_Players_num\n",
    "female_Players_sum = female_Players_df[\"Price\"].sum()\n",
    "female_Players_avg = female_Players_df[\"Price\"].mean()\n",
    "female_Players_avg\n",
    "##------------------------##\n",
    "male_Players_df = purchase_data.loc[purchase_data[\"Gender\"] == \"Male\"]\n",
    "male_Players_num = male_Players_df[\"SN\"].count()\n",
    "male_Players_num\n",
    "male_Players_sum = male_Players_df[\"Price\"].sum()\n",
    "male_Players_avg = male_Players_df[\"Price\"].mean()\n",
    "male_Players_avg\n",
    "##------------------------##\n",
    "other_Players_df = purchase_data.loc[purchase_data[\"Gender\"] == \"Other / Non-Disclosed\"]\n",
    "other_Players_num = other_Players_df[\"SN\"].count()\n",
    "other_Players_num\n",
    "other_Players_sum = other_Players_df[\"Price\"].sum()\n",
    "other_Players_avg = other_Players_df[\"Price\"].mean()\n",
    "other_Players_avg\n",
    "\n",
    "Genderframe_df = pd.DataFrame({\n",
    "    \"Purchase Count\": [female_Players_num, male_Players_num, other_Players_num],\n",
    "    \"Average Purchase Price\": [female_Players_avg, male_Players_avg, other_Players_avg],\n",
    "    \"Total Purchases\": [female_Players_sum, male_Players_sum, other_Players_sum],\n",
    "    \"Gender\": [\"Women\", \"Men\", \"Other / Non-Disclosed\"]\n",
    "})\n",
    "#Genderframe_df = frame_df.groupby.apply(\"Gender\")\n",
    "Genderframe_df.groupby(\"Gender\").mean()"
   ]
  },
  {
   "cell_type": "code",
   "execution_count": null,
   "metadata": {},
   "outputs": [],
   "source": []
  },
  {
   "cell_type": "markdown",
   "metadata": {},
   "source": [
    "## Age Demographics"
   ]
  },
  {
   "cell_type": "markdown",
   "metadata": {},
   "source": [
    "* Establish bins for ages\n",
    "\n",
    "\n",
    "* Categorize the existing players using the age bins. Hint: use pd.cut()\n",
    "\n",
    "\n",
    "* Calculate the numbers and percentages by age group\n",
    "\n",
    "\n",
    "* Create a summary data frame to hold the results\n",
    "\n",
    "\n",
    "* Optional: round the percentage column to two decimal points\n",
    "\n",
    "\n",
    "* Display Age Demographics Table\n"
   ]
  },
  {
   "cell_type": "code",
   "execution_count": 6,
   "metadata": {},
   "outputs": [
    {
     "data": {
      "text/html": [
       "<style  type=\"text/css\" >\n",
       "</style><table id=\"T_5aa4924a_a0fe_11e9_a1eb_dbe6c33fb392\" ><thead>    <tr>        <th class=\"blank level0\" ></th>        <th class=\"col_heading level0 col0\" >Percentage of Players</th>        <th class=\"col_heading level0 col1\" >Total Count</th>    </tr></thead><tbody>\n",
       "                <tr>\n",
       "                        <th id=\"T_5aa4924a_a0fe_11e9_a1eb_dbe6c33fb392level0_row0\" class=\"row_heading level0 row0\" ><10</th>\n",
       "                        <td id=\"T_5aa4924a_a0fe_11e9_a1eb_dbe6c33fb392row0_col0\" class=\"data row0 col0\" >2.95</td>\n",
       "                        <td id=\"T_5aa4924a_a0fe_11e9_a1eb_dbe6c33fb392row0_col1\" class=\"data row0 col1\" >17</td>\n",
       "            </tr>\n",
       "            <tr>\n",
       "                        <th id=\"T_5aa4924a_a0fe_11e9_a1eb_dbe6c33fb392level0_row1\" class=\"row_heading level0 row1\" >10-14</th>\n",
       "                        <td id=\"T_5aa4924a_a0fe_11e9_a1eb_dbe6c33fb392row1_col0\" class=\"data row1 col0\" >3.82</td>\n",
       "                        <td id=\"T_5aa4924a_a0fe_11e9_a1eb_dbe6c33fb392row1_col1\" class=\"data row1 col1\" >22</td>\n",
       "            </tr>\n",
       "            <tr>\n",
       "                        <th id=\"T_5aa4924a_a0fe_11e9_a1eb_dbe6c33fb392level0_row2\" class=\"row_heading level0 row2\" >15-19</th>\n",
       "                        <td id=\"T_5aa4924a_a0fe_11e9_a1eb_dbe6c33fb392row2_col0\" class=\"data row2 col0\" >18.58</td>\n",
       "                        <td id=\"T_5aa4924a_a0fe_11e9_a1eb_dbe6c33fb392row2_col1\" class=\"data row2 col1\" >107</td>\n",
       "            </tr>\n",
       "            <tr>\n",
       "                        <th id=\"T_5aa4924a_a0fe_11e9_a1eb_dbe6c33fb392level0_row3\" class=\"row_heading level0 row3\" >20-24</th>\n",
       "                        <td id=\"T_5aa4924a_a0fe_11e9_a1eb_dbe6c33fb392row3_col0\" class=\"data row3 col0\" >44.79</td>\n",
       "                        <td id=\"T_5aa4924a_a0fe_11e9_a1eb_dbe6c33fb392row3_col1\" class=\"data row3 col1\" >258</td>\n",
       "            </tr>\n",
       "            <tr>\n",
       "                        <th id=\"T_5aa4924a_a0fe_11e9_a1eb_dbe6c33fb392level0_row4\" class=\"row_heading level0 row4\" >25-29</th>\n",
       "                        <td id=\"T_5aa4924a_a0fe_11e9_a1eb_dbe6c33fb392row4_col0\" class=\"data row4 col0\" >13.37</td>\n",
       "                        <td id=\"T_5aa4924a_a0fe_11e9_a1eb_dbe6c33fb392row4_col1\" class=\"data row4 col1\" >77</td>\n",
       "            </tr>\n",
       "            <tr>\n",
       "                        <th id=\"T_5aa4924a_a0fe_11e9_a1eb_dbe6c33fb392level0_row5\" class=\"row_heading level0 row5\" >30-34</th>\n",
       "                        <td id=\"T_5aa4924a_a0fe_11e9_a1eb_dbe6c33fb392row5_col0\" class=\"data row5 col0\" >9.03</td>\n",
       "                        <td id=\"T_5aa4924a_a0fe_11e9_a1eb_dbe6c33fb392row5_col1\" class=\"data row5 col1\" >52</td>\n",
       "            </tr>\n",
       "            <tr>\n",
       "                        <th id=\"T_5aa4924a_a0fe_11e9_a1eb_dbe6c33fb392level0_row6\" class=\"row_heading level0 row6\" >35-39</th>\n",
       "                        <td id=\"T_5aa4924a_a0fe_11e9_a1eb_dbe6c33fb392row6_col0\" class=\"data row6 col0\" >5.38</td>\n",
       "                        <td id=\"T_5aa4924a_a0fe_11e9_a1eb_dbe6c33fb392row6_col1\" class=\"data row6 col1\" >31</td>\n",
       "            </tr>\n",
       "            <tr>\n",
       "                        <th id=\"T_5aa4924a_a0fe_11e9_a1eb_dbe6c33fb392level0_row7\" class=\"row_heading level0 row7\" >40+</th>\n",
       "                        <td id=\"T_5aa4924a_a0fe_11e9_a1eb_dbe6c33fb392row7_col0\" class=\"data row7 col0\" >2.08</td>\n",
       "                        <td id=\"T_5aa4924a_a0fe_11e9_a1eb_dbe6c33fb392row7_col1\" class=\"data row7 col1\" >12</td>\n",
       "            </tr>\n",
       "    </tbody></table>"
      ],
      "text/plain": [
       "<pandas.io.formats.style.Styler at 0x2520298d4e0>"
      ]
     },
     "execution_count": 6,
     "metadata": {},
     "output_type": "execute_result"
    }
   ],
   "source": [
    "###This is a googled answer\n",
    "\n",
    "age_bins = [0, 9.90, 14.90, 19.90, 24.90, 29.90, 34.90, 39.90, 99999]\n",
    "age_labels = [\"<10\", \"10-14\", \"15-19\", \"20-24\", \"25-29\", \"30-34\", \"35-39\", \"40+\"]\n",
    "pd.cut(purchase_data[\"Age\"], age_bins,labels=age_labels)\n",
    "purchase_data\n",
    "\n",
    "##found solution....\n",
    "# Segment and sort age values into bins established above\n",
    "purchase_data[\"Age Group\"] = pd.cut(purchase_data[\"Age\"],age_bins, labels=age_labels)\n",
    "purchase_data\n",
    "\n",
    "# Create new data frame with the added \"Age Group\" and group it\n",
    "age_grouped = purchase_data.groupby(\"Age Group\")\n",
    "\n",
    "# Count total players by age category\n",
    "total_count_age = age_grouped[\"SN\"].nunique()\n",
    "\n",
    "# Calculate percentages by age category \n",
    "percentage_by_age = (total_count_age/num_total_players) * 100\n",
    "\n",
    "# Create data frame with obtained values\n",
    "age_demographics = pd.DataFrame({\"Percentage of Players\": percentage_by_age, \"Total Count\": total_count_age})\n",
    "\n",
    "# Format the data frame with no index name in the corner\n",
    "age_demographics.index.name = None\n",
    "\n",
    "# Format percentage with two decimal places \n",
    "age_demographics.style.format({\"Percentage of Players\":\"{:,.2f}\"})"
   ]
  },
  {
   "cell_type": "markdown",
   "metadata": {},
   "source": [
    "## Purchasing Analysis (Age)"
   ]
  },
  {
   "cell_type": "markdown",
   "metadata": {},
   "source": [
    "* Bin the purchase_data data frame by age\n",
    "\n",
    "\n",
    "* Run basic calculations to obtain purchase count, avg. purchase price, avg. purchase total per person etc. in the table below\n",
    "\n",
    "\n",
    "* Create a summary data frame to hold the results\n",
    "\n",
    "\n",
    "* Optional: give the displayed data cleaner formatting\n",
    "\n",
    "\n",
    "* Display the summary data frame"
   ]
  },
  {
   "cell_type": "code",
   "execution_count": 30,
   "metadata": {},
   "outputs": [
    {
     "data": {
      "text/html": [
       "<style  type=\"text/css\" >\n",
       "</style><table id=\"T_dc75acb4_9bb6_11e9_850f_dbe6c33fb392\" ><thead>    <tr>        <th class=\"blank level0\" ></th>        <th class=\"col_heading level0 col0\" >Purchase Count</th>        <th class=\"col_heading level0 col1\" >Average Purchase Price</th>        <th class=\"col_heading level0 col2\" >Total Purchase Value</th>        <th class=\"col_heading level0 col3\" >Average Purchase Total per Person</th>    </tr></thead><tbody>\n",
       "                <tr>\n",
       "                        <th id=\"T_dc75acb4_9bb6_11e9_850f_dbe6c33fb392level0_row0\" class=\"row_heading level0 row0\" ><10</th>\n",
       "                        <td id=\"T_dc75acb4_9bb6_11e9_850f_dbe6c33fb392row0_col0\" class=\"data row0 col0\" >23</td>\n",
       "                        <td id=\"T_dc75acb4_9bb6_11e9_850f_dbe6c33fb392row0_col1\" class=\"data row0 col1\" >$3.35</td>\n",
       "                        <td id=\"T_dc75acb4_9bb6_11e9_850f_dbe6c33fb392row0_col2\" class=\"data row0 col2\" >$77.13</td>\n",
       "                        <td id=\"T_dc75acb4_9bb6_11e9_850f_dbe6c33fb392row0_col3\" class=\"data row0 col3\" >$4.54</td>\n",
       "            </tr>\n",
       "            <tr>\n",
       "                        <th id=\"T_dc75acb4_9bb6_11e9_850f_dbe6c33fb392level0_row1\" class=\"row_heading level0 row1\" >10-14</th>\n",
       "                        <td id=\"T_dc75acb4_9bb6_11e9_850f_dbe6c33fb392row1_col0\" class=\"data row1 col0\" >28</td>\n",
       "                        <td id=\"T_dc75acb4_9bb6_11e9_850f_dbe6c33fb392row1_col1\" class=\"data row1 col1\" >$2.96</td>\n",
       "                        <td id=\"T_dc75acb4_9bb6_11e9_850f_dbe6c33fb392row1_col2\" class=\"data row1 col2\" >$82.78</td>\n",
       "                        <td id=\"T_dc75acb4_9bb6_11e9_850f_dbe6c33fb392row1_col3\" class=\"data row1 col3\" >$3.76</td>\n",
       "            </tr>\n",
       "            <tr>\n",
       "                        <th id=\"T_dc75acb4_9bb6_11e9_850f_dbe6c33fb392level0_row2\" class=\"row_heading level0 row2\" >15-19</th>\n",
       "                        <td id=\"T_dc75acb4_9bb6_11e9_850f_dbe6c33fb392row2_col0\" class=\"data row2 col0\" >136</td>\n",
       "                        <td id=\"T_dc75acb4_9bb6_11e9_850f_dbe6c33fb392row2_col1\" class=\"data row2 col1\" >$3.04</td>\n",
       "                        <td id=\"T_dc75acb4_9bb6_11e9_850f_dbe6c33fb392row2_col2\" class=\"data row2 col2\" >$412.89</td>\n",
       "                        <td id=\"T_dc75acb4_9bb6_11e9_850f_dbe6c33fb392row2_col3\" class=\"data row2 col3\" >$3.86</td>\n",
       "            </tr>\n",
       "            <tr>\n",
       "                        <th id=\"T_dc75acb4_9bb6_11e9_850f_dbe6c33fb392level0_row3\" class=\"row_heading level0 row3\" >20-24</th>\n",
       "                        <td id=\"T_dc75acb4_9bb6_11e9_850f_dbe6c33fb392row3_col0\" class=\"data row3 col0\" >365</td>\n",
       "                        <td id=\"T_dc75acb4_9bb6_11e9_850f_dbe6c33fb392row3_col1\" class=\"data row3 col1\" >$3.05</td>\n",
       "                        <td id=\"T_dc75acb4_9bb6_11e9_850f_dbe6c33fb392row3_col2\" class=\"data row3 col2\" >$1,114.06</td>\n",
       "                        <td id=\"T_dc75acb4_9bb6_11e9_850f_dbe6c33fb392row3_col3\" class=\"data row3 col3\" >$4.32</td>\n",
       "            </tr>\n",
       "            <tr>\n",
       "                        <th id=\"T_dc75acb4_9bb6_11e9_850f_dbe6c33fb392level0_row4\" class=\"row_heading level0 row4\" >25-29</th>\n",
       "                        <td id=\"T_dc75acb4_9bb6_11e9_850f_dbe6c33fb392row4_col0\" class=\"data row4 col0\" >101</td>\n",
       "                        <td id=\"T_dc75acb4_9bb6_11e9_850f_dbe6c33fb392row4_col1\" class=\"data row4 col1\" >$2.90</td>\n",
       "                        <td id=\"T_dc75acb4_9bb6_11e9_850f_dbe6c33fb392row4_col2\" class=\"data row4 col2\" >$293.00</td>\n",
       "                        <td id=\"T_dc75acb4_9bb6_11e9_850f_dbe6c33fb392row4_col3\" class=\"data row4 col3\" >$3.81</td>\n",
       "            </tr>\n",
       "            <tr>\n",
       "                        <th id=\"T_dc75acb4_9bb6_11e9_850f_dbe6c33fb392level0_row5\" class=\"row_heading level0 row5\" >30-34</th>\n",
       "                        <td id=\"T_dc75acb4_9bb6_11e9_850f_dbe6c33fb392row5_col0\" class=\"data row5 col0\" >73</td>\n",
       "                        <td id=\"T_dc75acb4_9bb6_11e9_850f_dbe6c33fb392row5_col1\" class=\"data row5 col1\" >$2.93</td>\n",
       "                        <td id=\"T_dc75acb4_9bb6_11e9_850f_dbe6c33fb392row5_col2\" class=\"data row5 col2\" >$214.00</td>\n",
       "                        <td id=\"T_dc75acb4_9bb6_11e9_850f_dbe6c33fb392row5_col3\" class=\"data row5 col3\" >$4.12</td>\n",
       "            </tr>\n",
       "            <tr>\n",
       "                        <th id=\"T_dc75acb4_9bb6_11e9_850f_dbe6c33fb392level0_row6\" class=\"row_heading level0 row6\" >35-39</th>\n",
       "                        <td id=\"T_dc75acb4_9bb6_11e9_850f_dbe6c33fb392row6_col0\" class=\"data row6 col0\" >41</td>\n",
       "                        <td id=\"T_dc75acb4_9bb6_11e9_850f_dbe6c33fb392row6_col1\" class=\"data row6 col1\" >$3.60</td>\n",
       "                        <td id=\"T_dc75acb4_9bb6_11e9_850f_dbe6c33fb392row6_col2\" class=\"data row6 col2\" >$147.67</td>\n",
       "                        <td id=\"T_dc75acb4_9bb6_11e9_850f_dbe6c33fb392row6_col3\" class=\"data row6 col3\" >$4.76</td>\n",
       "            </tr>\n",
       "            <tr>\n",
       "                        <th id=\"T_dc75acb4_9bb6_11e9_850f_dbe6c33fb392level0_row7\" class=\"row_heading level0 row7\" >40+</th>\n",
       "                        <td id=\"T_dc75acb4_9bb6_11e9_850f_dbe6c33fb392row7_col0\" class=\"data row7 col0\" >13</td>\n",
       "                        <td id=\"T_dc75acb4_9bb6_11e9_850f_dbe6c33fb392row7_col1\" class=\"data row7 col1\" >$2.94</td>\n",
       "                        <td id=\"T_dc75acb4_9bb6_11e9_850f_dbe6c33fb392row7_col2\" class=\"data row7 col2\" >$38.24</td>\n",
       "                        <td id=\"T_dc75acb4_9bb6_11e9_850f_dbe6c33fb392row7_col3\" class=\"data row7 col3\" >$3.19</td>\n",
       "            </tr>\n",
       "    </tbody></table>"
      ],
      "text/plain": [
       "<pandas.io.formats.style.Styler at 0x2a544403e80>"
      ]
     },
     "execution_count": 30,
     "metadata": {},
     "output_type": "execute_result"
    }
   ],
   "source": [
    "##Also a googled answer, just did not have the tinme to go through the process of figuring out which approach to take\n",
    "\n",
    "# Count purchases by age group\n",
    "purchase_count_age = age_grouped[\"Purchase ID\"].count()\n",
    "\n",
    "# Obtain average purchase price by age group \n",
    "avg_purchase_price_age = age_grouped[\"Price\"].mean()\n",
    "\n",
    "# Calculate total purchase value by age group \n",
    "total_purchase_value = age_grouped[\"Price\"].sum()\n",
    "\n",
    "# Calculate the average purchase per person in the age group \n",
    "avg_purchase_per_person_age = total_purchase_value/total_count_age\n",
    "\n",
    "# Create data frame with obtained values\n",
    "age_demographics = pd.DataFrame({\"Purchase Count\": purchase_count_age,\n",
    "                                 \"Average Purchase Price\": avg_purchase_price_age,\n",
    "                                 \"Total Purchase Value\":total_purchase_value,\n",
    "                                 \"Average Purchase Total per Person\": avg_purchase_per_person_age})\n",
    "\n",
    "# Format the data frame with no index name in the corner\n",
    "age_demographics.index.name = None\n",
    "\n",
    "# Format with currency style\n",
    "age_demographics.style.format({\"Average Purchase Price\":\"${:,.2f}\",\n",
    "                               \"Total Purchase Value\":\"${:,.2f}\",\n",
    "                               \"Average Purchase Total per Person\":\"${:,.2f}\"})"
   ]
  },
  {
   "cell_type": "markdown",
   "metadata": {},
   "source": [
    "## Top Spenders"
   ]
  },
  {
   "cell_type": "markdown",
   "metadata": {},
   "source": [
    "* Run basic calculations to obtain the results in the table below\n",
    "\n",
    "\n",
    "* Create a summary data frame to hold the results\n",
    "\n",
    "\n",
    "* Sort the total purchase value column in descending order\n",
    "\n",
    "\n",
    "* Optional: give the displayed data cleaner formatting\n",
    "\n",
    "\n",
    "* Display a preview of the summary data frame\n",
    "\n"
   ]
  },
  {
   "cell_type": "code",
   "execution_count": 8,
   "metadata": {},
   "outputs": [
    {
     "data": {
      "text/html": [
       "<div>\n",
       "<style scoped>\n",
       "    .dataframe tbody tr th:only-of-type {\n",
       "        vertical-align: middle;\n",
       "    }\n",
       "\n",
       "    .dataframe tbody tr th {\n",
       "        vertical-align: top;\n",
       "    }\n",
       "\n",
       "    .dataframe thead th {\n",
       "        text-align: right;\n",
       "    }\n",
       "</style>\n",
       "<table border=\"1\" class=\"dataframe\">\n",
       "  <thead>\n",
       "    <tr style=\"text-align: right;\">\n",
       "      <th></th>\n",
       "      <th>Purchase Count</th>\n",
       "      <th>Average Purchase Price</th>\n",
       "      <th>Total Purchase Value</th>\n",
       "    </tr>\n",
       "    <tr>\n",
       "      <th>SN</th>\n",
       "      <th></th>\n",
       "      <th></th>\n",
       "      <th></th>\n",
       "    </tr>\n",
       "  </thead>\n",
       "  <tbody>\n",
       "    <tr>\n",
       "      <th>Lisosia93</th>\n",
       "      <td>5</td>\n",
       "      <td>3.792000</td>\n",
       "      <td>18.96</td>\n",
       "    </tr>\n",
       "    <tr>\n",
       "      <th>Idastidru52</th>\n",
       "      <td>4</td>\n",
       "      <td>3.862500</td>\n",
       "      <td>15.45</td>\n",
       "    </tr>\n",
       "    <tr>\n",
       "      <th>Chamjask73</th>\n",
       "      <td>3</td>\n",
       "      <td>4.610000</td>\n",
       "      <td>13.83</td>\n",
       "    </tr>\n",
       "    <tr>\n",
       "      <th>Iral74</th>\n",
       "      <td>4</td>\n",
       "      <td>3.405000</td>\n",
       "      <td>13.62</td>\n",
       "    </tr>\n",
       "    <tr>\n",
       "      <th>Iskadarya95</th>\n",
       "      <td>3</td>\n",
       "      <td>4.366667</td>\n",
       "      <td>13.10</td>\n",
       "    </tr>\n",
       "  </tbody>\n",
       "</table>\n",
       "</div>"
      ],
      "text/plain": [
       "             Purchase Count  Average Purchase Price  Total Purchase Value\n",
       "SN                                                                       \n",
       "Lisosia93                 5                3.792000                 18.96\n",
       "Idastidru52               4                3.862500                 15.45\n",
       "Chamjask73                3                4.610000                 13.83\n",
       "Iral74                    4                3.405000                 13.62\n",
       "Iskadarya95               3                4.366667                 13.10"
      ]
     },
     "execution_count": 8,
     "metadata": {},
     "output_type": "execute_result"
    }
   ],
   "source": [
    "purchase_data\n",
    "purchase_data\n",
    "players_data = purchase_data.groupby(\"SN\")\n",
    "#players_purchase_count = players_data[\"Purchase Id\"]\n",
    "#players_purchase_count\n",
    "players_data_purchase_count = players_data[\"Purchase ID\"].count()\n",
    "players_data_purchase_avg = players_data[\"Price\"].mean()\n",
    "players_data_purchase_sum = players_data[\"Price\"].sum()\n",
    "purchase_analysis = pd.DataFrame({\"Purchase Count\": players_data_purchase_count,\n",
    "                             \"Average Purchase Price\": players_data_purchase_avg,\n",
    "                             \"Total Purchase Value\":players_data_purchase_sum})\n",
    "\n",
    "purchase_analysis.sort_values([\"Total Purchase Value\"], ascending=False).head()"
   ]
  },
  {
   "cell_type": "markdown",
   "metadata": {},
   "source": [
    "## Most Popular Items"
   ]
  },
  {
   "cell_type": "markdown",
   "metadata": {},
   "source": [
    "* Retrieve the Item ID, Item Name, and Item Price columns\n",
    "\n",
    "\n",
    "* Group by Item ID and Item Name. Perform calculations to obtain purchase count, item price, and total purchase value\n",
    "\n",
    "\n",
    "* Create a summary data frame to hold the results\n",
    "\n",
    "\n",
    "* Sort the purchase count column in descending order\n",
    "\n",
    "\n",
    "* Optional: give the displayed data cleaner formatting\n",
    "\n",
    "\n",
    "* Display a preview of the summary data frame\n",
    "\n"
   ]
  },
  {
   "cell_type": "code",
   "execution_count": 28,
   "metadata": {
    "scrolled": true
   },
   "outputs": [
    {
     "data": {
      "text/html": [
       "<div>\n",
       "<style scoped>\n",
       "    .dataframe tbody tr th:only-of-type {\n",
       "        vertical-align: middle;\n",
       "    }\n",
       "\n",
       "    .dataframe tbody tr th {\n",
       "        vertical-align: top;\n",
       "    }\n",
       "\n",
       "    .dataframe thead th {\n",
       "        text-align: right;\n",
       "    }\n",
       "</style>\n",
       "<table border=\"1\" class=\"dataframe\">\n",
       "  <thead>\n",
       "    <tr style=\"text-align: right;\">\n",
       "      <th></th>\n",
       "      <th></th>\n",
       "      <th>Purchase Count</th>\n",
       "      <th>Item Price</th>\n",
       "      <th>Total Purchase Value</th>\n",
       "    </tr>\n",
       "    <tr>\n",
       "      <th>Item ID</th>\n",
       "      <th>Item Name</th>\n",
       "      <th></th>\n",
       "      <th></th>\n",
       "      <th></th>\n",
       "    </tr>\n",
       "  </thead>\n",
       "  <tbody>\n",
       "    <tr>\n",
       "      <th>178</th>\n",
       "      <th>Oathbreaker, Last Hope of the Breaking Storm</th>\n",
       "      <td>12</td>\n",
       "      <td>4.23</td>\n",
       "      <td>50.76</td>\n",
       "    </tr>\n",
       "    <tr>\n",
       "      <th>145</th>\n",
       "      <th>Fiery Glass Crusader</th>\n",
       "      <td>9</td>\n",
       "      <td>4.58</td>\n",
       "      <td>41.22</td>\n",
       "    </tr>\n",
       "    <tr>\n",
       "      <th>108</th>\n",
       "      <th>Extraction, Quickblade Of Trembling Hands</th>\n",
       "      <td>9</td>\n",
       "      <td>3.53</td>\n",
       "      <td>31.77</td>\n",
       "    </tr>\n",
       "    <tr>\n",
       "      <th>82</th>\n",
       "      <th>Nirvana</th>\n",
       "      <td>9</td>\n",
       "      <td>4.90</td>\n",
       "      <td>44.10</td>\n",
       "    </tr>\n",
       "    <tr>\n",
       "      <th>19</th>\n",
       "      <th>Pursuit, Cudgel of Necromancy</th>\n",
       "      <td>8</td>\n",
       "      <td>1.02</td>\n",
       "      <td>8.16</td>\n",
       "    </tr>\n",
       "  </tbody>\n",
       "</table>\n",
       "</div>"
      ],
      "text/plain": [
       "                                                      Purchase Count  \\\n",
       "Item ID Item Name                                                      \n",
       "178     Oathbreaker, Last Hope of the Breaking Storm              12   \n",
       "145     Fiery Glass Crusader                                       9   \n",
       "108     Extraction, Quickblade Of Trembling Hands                  9   \n",
       "82      Nirvana                                                    9   \n",
       "19      Pursuit, Cudgel of Necromancy                              8   \n",
       "\n",
       "                                                      Item Price  \\\n",
       "Item ID Item Name                                                  \n",
       "178     Oathbreaker, Last Hope of the Breaking Storm        4.23   \n",
       "145     Fiery Glass Crusader                                4.58   \n",
       "108     Extraction, Quickblade Of Trembling Hands           3.53   \n",
       "82      Nirvana                                             4.90   \n",
       "19      Pursuit, Cudgel of Necromancy                       1.02   \n",
       "\n",
       "                                                      Total Purchase Value  \n",
       "Item ID Item Name                                                           \n",
       "178     Oathbreaker, Last Hope of the Breaking Storm                 50.76  \n",
       "145     Fiery Glass Crusader                                         41.22  \n",
       "108     Extraction, Quickblade Of Trembling Hands                    31.77  \n",
       "82      Nirvana                                                      44.10  \n",
       "19      Pursuit, Cudgel of Necromancy                                 8.16  "
      ]
     },
     "execution_count": 28,
     "metadata": {},
     "output_type": "execute_result"
    }
   ],
   "source": [
    "most_popular_data = purchase_data.loc[:, [\"Item ID\", \"Item Name\", \"Purchase ID\", \"Price\"]]\n",
    "most_popular_data = most_popular_data.groupby([\"Item ID\", \"Item Name\"])\n",
    "most_popular_id = most_popular_data[\"Item ID\"]\n",
    "most_popular_name = most_popular_data[\"Item Name\"]\n",
    "most_popular_count = most_popular_data[\"Price\"].count()\n",
    "most_popular_sum = (most_popular_data[\"Price\"].sum())\n",
    "most_popular_price = most_popular_sum/most_popular_count\n",
    "\n",
    "most_popular_analysis = pd.DataFrame({\"Purchase Count\": most_popular_count, \n",
    "                                   \"Item Price\": most_popular_price,\n",
    "                                   \"Total Purchase Value\":most_popular_sum})\n",
    "\n",
    "most_popular_analysis1 = most_popular_analysis.sort_values([\"Purchase Count\"], ascending=False)\n",
    "most_popular_analysis1.head()"
   ]
  },
  {
   "cell_type": "markdown",
   "metadata": {},
   "source": [
    "## Most Profitable Items"
   ]
  },
  {
   "cell_type": "markdown",
   "metadata": {},
   "source": [
    "* Sort the above table by total purchase value in descending order\n",
    "\n",
    "\n",
    "* Optional: give the displayed data cleaner formatting\n",
    "\n",
    "\n",
    "* Display a preview of the data frame\n",
    "\n"
   ]
  },
  {
   "cell_type": "code",
   "execution_count": 30,
   "metadata": {
    "scrolled": true
   },
   "outputs": [
    {
     "data": {
      "text/html": [
       "<div>\n",
       "<style scoped>\n",
       "    .dataframe tbody tr th:only-of-type {\n",
       "        vertical-align: middle;\n",
       "    }\n",
       "\n",
       "    .dataframe tbody tr th {\n",
       "        vertical-align: top;\n",
       "    }\n",
       "\n",
       "    .dataframe thead th {\n",
       "        text-align: right;\n",
       "    }\n",
       "</style>\n",
       "<table border=\"1\" class=\"dataframe\">\n",
       "  <thead>\n",
       "    <tr style=\"text-align: right;\">\n",
       "      <th></th>\n",
       "      <th></th>\n",
       "      <th>Purchase Count</th>\n",
       "      <th>Item Price</th>\n",
       "      <th>Total Purchase Value</th>\n",
       "    </tr>\n",
       "    <tr>\n",
       "      <th>Item ID</th>\n",
       "      <th>Item Name</th>\n",
       "      <th></th>\n",
       "      <th></th>\n",
       "      <th></th>\n",
       "    </tr>\n",
       "  </thead>\n",
       "  <tbody>\n",
       "    <tr>\n",
       "      <th>178</th>\n",
       "      <th>Oathbreaker, Last Hope of the Breaking Storm</th>\n",
       "      <td>12</td>\n",
       "      <td>4.23</td>\n",
       "      <td>50.76</td>\n",
       "    </tr>\n",
       "    <tr>\n",
       "      <th>82</th>\n",
       "      <th>Nirvana</th>\n",
       "      <td>9</td>\n",
       "      <td>4.90</td>\n",
       "      <td>44.10</td>\n",
       "    </tr>\n",
       "    <tr>\n",
       "      <th>145</th>\n",
       "      <th>Fiery Glass Crusader</th>\n",
       "      <td>9</td>\n",
       "      <td>4.58</td>\n",
       "      <td>41.22</td>\n",
       "    </tr>\n",
       "    <tr>\n",
       "      <th>92</th>\n",
       "      <th>Final Critic</th>\n",
       "      <td>8</td>\n",
       "      <td>4.88</td>\n",
       "      <td>39.04</td>\n",
       "    </tr>\n",
       "    <tr>\n",
       "      <th>103</th>\n",
       "      <th>Singed Scalpel</th>\n",
       "      <td>8</td>\n",
       "      <td>4.35</td>\n",
       "      <td>34.80</td>\n",
       "    </tr>\n",
       "  </tbody>\n",
       "</table>\n",
       "</div>"
      ],
      "text/plain": [
       "                                                      Purchase Count  \\\n",
       "Item ID Item Name                                                      \n",
       "178     Oathbreaker, Last Hope of the Breaking Storm              12   \n",
       "82      Nirvana                                                    9   \n",
       "145     Fiery Glass Crusader                                       9   \n",
       "92      Final Critic                                               8   \n",
       "103     Singed Scalpel                                             8   \n",
       "\n",
       "                                                      Item Price  \\\n",
       "Item ID Item Name                                                  \n",
       "178     Oathbreaker, Last Hope of the Breaking Storm        4.23   \n",
       "82      Nirvana                                             4.90   \n",
       "145     Fiery Glass Crusader                                4.58   \n",
       "92      Final Critic                                        4.88   \n",
       "103     Singed Scalpel                                      4.35   \n",
       "\n",
       "                                                      Total Purchase Value  \n",
       "Item ID Item Name                                                           \n",
       "178     Oathbreaker, Last Hope of the Breaking Storm                 50.76  \n",
       "82      Nirvana                                                      44.10  \n",
       "145     Fiery Glass Crusader                                         41.22  \n",
       "92      Final Critic                                                 39.04  \n",
       "103     Singed Scalpel                                               34.80  "
      ]
     },
     "execution_count": 30,
     "metadata": {},
     "output_type": "execute_result"
    }
   ],
   "source": [
    "most_profitable_analysis = most_popular_analysis.sort_values([\"Total Purchase Value\"],\n",
    "                                                   ascending=False).head()\n",
    "most_profitable_analysis"
   ]
  }
 ],
 "metadata": {
  "anaconda-cloud": {},
  "kernel_info": {
   "name": "python3"
  },
  "kernelspec": {
   "display_name": "Python 3",
   "language": "python",
   "name": "python3"
  },
  "language_info": {
   "codemirror_mode": {
    "name": "ipython",
    "version": 3
   },
   "file_extension": ".py",
   "mimetype": "text/x-python",
   "name": "python",
   "nbconvert_exporter": "python",
   "pygments_lexer": "ipython3",
   "version": "3.7.3"
  },
  "nteract": {
   "version": "0.2.0"
  }
 },
 "nbformat": 4,
 "nbformat_minor": 2
}
